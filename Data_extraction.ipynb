{
  "nbformat": 4,
  "nbformat_minor": 0,
  "metadata": {
    "colab": {
      "name": "Data_extraction.ipynb",
      "provenance": [],
      "collapsed_sections": [],
      "mount_file_id": "1WyLwRm1L6SihG3QqGvOFP0YKu4z37bpX",
      "authorship_tag": "ABX9TyNxQZizeiy7C6oWxeZa+bVE",
      "include_colab_link": true
    },
    "kernelspec": {
      "name": "python3",
      "display_name": "Python 3"
    },
    "language_info": {
      "name": "python"
    }
  },
  "cells": [
    {
      "cell_type": "markdown",
      "metadata": {
        "id": "view-in-github",
        "colab_type": "text"
      },
      "source": [
        "<a href=\"https://colab.research.google.com/github/SahilSunda/ML_Project/blob/master/Data_extraction.ipynb\" target=\"_parent\"><img src=\"https://colab.research.google.com/assets/colab-badge.svg\" alt=\"Open In Colab\"/></a>"
      ]
    },
    {
      "cell_type": "code",
      "metadata": {
        "id": "lNXWPzSZDQZa"
      },
      "source": [
        "import urllib\n",
        "import json\n",
        "import numpy as np\n",
        "import pandas as pd\n",
        "from PIL import Image\n"
      ],
      "execution_count": 9,
      "outputs": []
    },
    {
      "cell_type": "code",
      "metadata": {
        "id": "iMK95WbXcHxb"
      },
      "source": [
        "cropnames = pd.read_csv('/iitk_crop.csv')\n",
        "f = open(\"/iitk_query.json\")\n",
        "data = json.load(f)\n",
        "content = dict\n"
      ],
      "execution_count": 11,
      "outputs": []
    },
    {
      "cell_type": "code",
      "metadata": {
        "id": "VicJhFNAd0Gq"
      },
      "source": [
        ""
      ],
      "execution_count": null,
      "outputs": []
    }
  ]
}