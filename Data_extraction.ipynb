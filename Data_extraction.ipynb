{
  "nbformat": 4,
  "nbformat_minor": 0,
  "metadata": {
    "colab": {
      "name": "Data_extraction.ipynb",
      "provenance": [],
      "collapsed_sections": [],
      "include_colab_link": true
    },
    "kernelspec": {
      "name": "python3",
      "display_name": "Python 3"
    },
    "language_info": {
      "name": "python"
    }
  },
  "cells": [
    {
      "cell_type": "markdown",
      "metadata": {
        "id": "view-in-github",
        "colab_type": "text"
      },
      "source": [
        "<a href=\"https://colab.research.google.com/github/SahilSunda/ML_Project/blob/master/Data_extraction.ipynb\" target=\"_parent\"><img src=\"https://colab.research.google.com/assets/colab-badge.svg\" alt=\"Open In Colab\"/></a>"
      ]
    },
    {
      "cell_type": "code",
      "metadata": {
        "id": "lNXWPzSZDQZa"
      },
      "source": [
        "import urllib\n",
        "import json\n",
        "import numpy as np\n",
        "import pandas as pd\n",
        "from PIL import Image"
      ],
      "execution_count": 13,
      "outputs": []
    },
    {
      "cell_type": "code",
      "metadata": {
        "colab": {
          "base_uri": "https://localhost:8080/"
        },
        "id": "IzPGl0FZrStk",
        "outputId": "c567c37c-9be0-4b02-aeab-23ec13117a34"
      },
      "source": [
        "from google.colab import drive\n",
        "drive.mount('/content/drive')"
      ],
      "execution_count": 14,
      "outputs": [
        {
          "output_type": "stream",
          "text": [
            "Drive already mounted at /content/drive; to attempt to forcibly remount, call drive.mount(\"/content/drive\", force_remount=True).\n"
          ],
          "name": "stdout"
        }
      ]
    },
    {
      "cell_type": "code",
      "metadata": {
        "colab": {
          "base_uri": "https://localhost:8080/"
        },
        "id": "iMK95WbXcHxb",
        "outputId": "90297169-4fe1-4cdb-e8c3-8137dfd3e815"
      },
      "source": [
        "crops = {}\n",
        "crops_data = pd.read_csv('/content/drive/MyDrive/Colab Notebooks/Khetipoint/iitk_crop.csv')\n",
        "#crops_data = pd.read_csv('/content/drive/MyDrive/iitk_crop.csv')\n",
        "#cropid = []\n",
        "cropid = crops_data['_id']\n",
        "cropname = crops_data['name.en']\n",
        "#print(len(crops_data))\n",
        "for i in range(len(crops_data)):\n",
        "  crops[cropid[i]] = cropname[i]\n",
        "print(crops)\n",
        "#print(crops_data['_id'])"
      ],
      "execution_count": 15,
      "outputs": [
        {
          "output_type": "stream",
          "text": [
            "{'5fc4fd0f00dd0a5e9ddb8abc': 'Cotton', '5fc4fd1100dd0a5e9ddb8abd': 'Cumin', '5fc4fd1200dd0a5e9ddb8abe': 'Coriander ', '5fc4fd1300dd0a5e9ddb8abf': 'Potato', '5fc4fd1500dd0a5e9ddb8ac0': 'Onion', '5fc4fd1600dd0a5e9ddb8ac1': 'Garlic', '5fc4fd1800dd0a5e9ddb8ac2': 'Gram', '5fdf686e36deb42315324603': 'Maize', '5fe21e9489d67d51b7331c41': 'Fennel', '5fe2284c89d67d51b7331c49': 'Sesame', '5fe22d1489d67d51b7331c4a': 'Groundnut', '5fe333a789d67d51b7331d4a': 'Paddy', '5fe33be589d67d51b7331d53': 'Brinjal', '5fe340ce89d67d51b7331d5b': 'Tomato', '5fe346e289d67d51b7331d77': 'Chilli', '5fe46b5889d67d51b7331e0f': 'Okra', '5fe4734789d67d51b7331e11': 'Cabbage', '5fe48c8189d67d51b7331e16': 'Cauliflower', '5fe5aa5189d67d51b7331e82': 'Pigeon Pea (Tur)', '5fe5b2a789d67d51b7331e99': 'Green Gram', '604c728fcd47936a4cb87e02': 'Bajara (Pearl millet)', '604ca272cd47936a4cb87e26': 'Castor', '604cc814cd47936a4cb87e2f': 'Sorghum', '604ccf2dcd47936a4cb87e32': 'Coconut', '604cff8fcd47936a4cb87e40': 'Water Melon', '604d0790cd47936a4cb87e43': 'Musk Melon ', '604d1320cd47936a4cb87e44': 'Black Gram', '604d889bcd47936a4cb87e5f': 'Bitter Guard', '604d95f5cd47936a4cb87e61': 'Cucumber', '604dac9fcd47936a4cb87e6c': 'Soyabean', '604dc162cd47936a4cb87e6f': 'Pea', '604de291cd47936a4cb87e7b': 'Sugarcane', '604f3c30cd47936a4cb87ebb': 'Pointed Guard'}\n"
          ],
          "name": "stdout"
        }
      ]
    },
    {
      "cell_type": "code",
      "metadata": {
        "id": "YtqVMnUA5ilx"
      },
      "source": [
        "f = open(\"/content/drive/MyDrive/Colab Notebooks/Khetipoint/iitk_query.json\")\n",
        "#f = open('/content/drive/MyDrive/iitk_query.json')\n",
        "data = json.load(f)\n",
        "#print(len(data))\n",
        "#print(data[0]['cropIds'])\n",
        "content1 = { 'imageurl': [], 'id': [], 'createdon': [], 'description': [] }\n",
        "temp = []\n",
        "for i in range(len(data)):\n",
        "  flag = list(data[i]['medias'].values())\n",
        "  #print(i)\n",
        "  if(not bool(data[i]['medias'])==True):\n",
        "    continue\n",
        "  if(not bool(data[i]['medias'][flag[0]['fid']]['urls'])==True):\n",
        "    continue\n",
        "  d = data[i]['medias'][flag[0]['fid']]['urls'].keys()\n",
        "  temp = 'main' in d\n",
        "  if(temp==False):\n",
        "    continue\n",
        "  content1['imageurl'].append(data[i]['medias'][flag[0]['fid']]['urls']['main'])\n",
        "  content1['id'].append(data[i]['cropIds'])\n",
        "  content1['createdon'].append(data[i]['createdOn']['$date'])\n",
        "  content1['description'].append(data[i]['description'])"
      ],
      "execution_count": 16,
      "outputs": []
    },
    {
      "cell_type": "code",
      "metadata": {
        "colab": {
          "base_uri": "https://localhost:8080/"
        },
        "id": "Pp_JdzqH6nQv",
        "outputId": "7e9f3138-8cf0-4215-ba2c-9096393b5cd7"
      },
      "source": [
        "print(len(content1['imageurl']))\n",
        "print(len(data))"
      ],
      "execution_count": 17,
      "outputs": [
        {
          "output_type": "stream",
          "text": [
            "6002\n",
            "9509\n"
          ],
          "name": "stdout"
        }
      ]
    },
    {
      "cell_type": "code",
      "metadata": {
        "colab": {
          "base_uri": "https://localhost:8080/"
        },
        "id": "8tVTRMDQtXb3",
        "outputId": "7417c251-b741-4917-c598-7cdb0a980b68"
      },
      "source": [
        "filename = str(content1['id'][1][0])\n",
        "filename = crops[filename]\n",
        "print(filename)\n",
        "print(len(crops_data['name.en']))"
      ],
      "execution_count": 25,
      "outputs": [
        {
          "output_type": "stream",
          "text": [
            "Gram\n",
            "33\n"
          ],
          "name": "stdout"
        }
      ]
    },
    {
      "cell_type": "code",
      "metadata": {
        "id": "NqfziBs9yk1P"
      },
      "source": [
        "import os\n",
        "for i in range(len(crops_data['name.en'])):\n",
        "  path = '/content/drive/MyDrive/Data/' + str(crops_data['name.en'][i])\n",
        "  os.mkdir(path)\n",
        "\n",
        "#please don't run this again and again it is for forming folder on your drive"
      ],
      "execution_count": 27,
      "outputs": []
    },
    {
      "cell_type": "code",
      "metadata": {
        "id": "FFlHB-x9vA_9",
        "colab": {
          "base_uri": "https://localhost:8080/"
        },
        "outputId": "7fc8b98b-e482-41b3-b2e8-934945fb55eb"
      },
      "source": [
        "import urllib.request\n",
        "\n",
        "# setting filename and image URL\n",
        "filename = str(content1['id'][1][0])\n",
        "filename = crops[filename]\n",
        "image_url = str(content1['imageurl'][1])\n",
        "\n",
        "# calling urlretrieve function to get resource\n",
        "urllib.request.urlretrieve(image_url,'/content/sample_data/image/pic1.jpg')"
      ],
      "execution_count": null,
      "outputs": [
        {
          "output_type": "execute_result",
          "data": {
            "text/plain": [
              "('/content/sample_data/image/pic1.jpg',\n",
              " <http.client.HTTPMessage at 0x7ffa00002710>)"
            ]
          },
          "metadata": {
            "tags": []
          },
          "execution_count": 20
        }
      ]
    }
  ]
}