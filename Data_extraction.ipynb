{
  "nbformat": 4,
  "nbformat_minor": 0,
  "metadata": {
    "colab": {
      "name": "Data_extraction.ipynb",
      "provenance": [],
      "collapsed_sections": [],
      "include_colab_link": true
    },
    "kernelspec": {
      "name": "python3",
      "display_name": "Python 3"
    },
    "language_info": {
      "name": "python"
    }
  },
  "cells": [
    {
      "cell_type": "markdown",
      "metadata": {
        "id": "view-in-github",
        "colab_type": "text"
      },
      "source": [
        "<a href=\"https://colab.research.google.com/github/SahilSunda/ML_Project/blob/master/Data_extraction.ipynb\" target=\"_parent\"><img src=\"https://colab.research.google.com/assets/colab-badge.svg\" alt=\"Open In Colab\"/></a>"
      ]
    },
    {
      "cell_type": "code",
      "metadata": {
        "id": "lNXWPzSZDQZa"
      },
      "source": [
        "import urllib\n",
        "import json\n",
        "import numpy as np\n",
        "import pandas as pd\n",
        "from PIL import Image"
      ],
      "execution_count": null,
      "outputs": []
    },
    {
      "cell_type": "code",
      "metadata": {
        "colab": {
          "base_uri": "https://localhost:8080/"
        },
        "id": "IzPGl0FZrStk",
        "outputId": "4e16e617-71d6-4f47-85b9-bb1fc9c93363"
      },
      "source": [
        "from google.colab import drive\n",
        "drive.mount('/content/drive')"
      ],
      "execution_count": null,
      "outputs": [
        {
          "output_type": "stream",
          "text": [
            "Mounted at /content/drive\n"
          ],
          "name": "stdout"
        }
      ]
    },
    {
      "cell_type": "code",
      "metadata": {
        "colab": {
          "base_uri": "https://localhost:8080/"
        },
        "id": "iMK95WbXcHxb",
        "outputId": "5d931333-45fc-4dc3-fce8-cc0e4169d22c"
      },
      "source": [
        "crops = {}\n",
        "crops_data = pd.read_csv('/content/drive/MyDrive/iitk_crop.csv')\n",
        "#cropid = []\n",
        "cropid = crops_data['_id']\n",
        "cropname = crops_data['name.en']\n",
        "#print(len(crops_data))\n",
        "for i in range(len(crops_data)):\n",
        "  crops[cropid[i]] = cropname[i]\n",
        "print(crops)\n",
        "#print(crops_data['_id'])"
      ],
      "execution_count": null,
      "outputs": [
        {
          "output_type": "stream",
          "text": [
            "{'5fc4fd0f00dd0a5e9ddb8abc': 'Cotton', '5fc4fd1100dd0a5e9ddb8abd': 'Cumin', '5fc4fd1200dd0a5e9ddb8abe': 'Coriander ', '5fc4fd1300dd0a5e9ddb8abf': 'Potato', '5fc4fd1500dd0a5e9ddb8ac0': 'Onion', '5fc4fd1600dd0a5e9ddb8ac1': 'Garlic', '5fc4fd1800dd0a5e9ddb8ac2': 'Gram', '5fdf686e36deb42315324603': 'Maize', '5fe21e9489d67d51b7331c41': 'Fennel', '5fe2284c89d67d51b7331c49': 'Sesame', '5fe22d1489d67d51b7331c4a': 'Groundnut', '5fe333a789d67d51b7331d4a': 'Paddy', '5fe33be589d67d51b7331d53': 'Brinjal', '5fe340ce89d67d51b7331d5b': 'Tomato', '5fe346e289d67d51b7331d77': 'Chilli', '5fe46b5889d67d51b7331e0f': 'Okra', '5fe4734789d67d51b7331e11': 'Cabbage', '5fe48c8189d67d51b7331e16': 'Cauliflower', '5fe5aa5189d67d51b7331e82': 'Pigeon Pea (Tur)', '5fe5b2a789d67d51b7331e99': 'Green Gram', '604c728fcd47936a4cb87e02': 'Bajara (Pearl millet)', '604ca272cd47936a4cb87e26': 'Castor', '604cc814cd47936a4cb87e2f': 'Sorghum', '604ccf2dcd47936a4cb87e32': 'Coconut', '604cff8fcd47936a4cb87e40': 'Water Melon', '604d0790cd47936a4cb87e43': 'Musk Melon ', '604d1320cd47936a4cb87e44': 'Black Gram', '604d889bcd47936a4cb87e5f': 'Bitter Guard', '604d95f5cd47936a4cb87e61': 'Cucumber', '604dac9fcd47936a4cb87e6c': 'Soyabean', '604dc162cd47936a4cb87e6f': 'Pea', '604de291cd47936a4cb87e7b': 'Sugarcane', '604f3c30cd47936a4cb87ebb': 'Pointed Guard'}\n"
          ],
          "name": "stdout"
        }
      ]
    },
    {
      "cell_type": "code",
      "metadata": {
        "id": "YtqVMnUA5ilx"
      },
      "source": [
        "f = open(\"/content/drive/MyDrive/iitk_query.json\")\n",
        "data = json.load(f)\n",
        "#print(len(data))\n",
        "#print(data[0]['cropIds'])\n",
        "content1 = { 'imageurl': [], 'id': [], 'createdon': [], 'description': [] }\n",
        "temp = []\n",
        "for i in range(len(data)):\n",
        "  flag = list(data[i]['medias'].values())\n",
        "  print(i)\n",
        "  if(not bool(data[i]['medias'])==True):\n",
        "    continue\n",
        "  if(not bool(data[i]['medias'][flag[0]['fid']]['urls'])==True):\n",
        "    continue\n",
        "  d = data[i]['medias'][flag[0]['fid']]['urls'].keys()\n",
        "  temp = 'main' in d\n",
        "  if(temp==False):\n",
        "    continue\n",
        "  content1['imageurl'].append(data[i]['medias'][flag[0]['fid']]['urls']['main'])\n",
        "  content1['id'].append(data[i]['cropIds'])\n",
        "  content1['createdon'].append(data[i]['createdOn']['$date'])\n",
        "  content1['description'].append(data[i]['description'])"
      ],
      "execution_count": null,
      "outputs": []
    },
    {
      "cell_type": "code",
      "metadata": {
        "colab": {
          "base_uri": "https://localhost:8080/"
        },
        "id": "Pp_JdzqH6nQv",
        "outputId": "4c3cd41c-ae0d-46e0-c4d0-2787b2667727"
      },
      "source": [
        "print(len(content1['imageurl']))\n",
        "print(len(data))"
      ],
      "execution_count": null,
      "outputs": [
        {
          "output_type": "stream",
          "text": [
            "6002\n",
            "9509\n"
          ],
          "name": "stdout"
        }
      ]
    },
    {
      "cell_type": "code",
      "metadata": {
        "colab": {
          "base_uri": "https://localhost:8080/"
        },
        "id": "8tVTRMDQtXb3",
        "outputId": "3e056889-cb4b-4504-df09-176c72af1982"
      },
      "source": [
        "data[905]"
      ],
      "execution_count": null,
      "outputs": [
        {
          "output_type": "execute_result",
          "data": {
            "text/plain": [
              "{'_id': {'$oid': '60652bf1ff173cc8f7c7c392'},\n",
              " 'active': True,\n",
              " 'adminPost': False,\n",
              " 'createdOn': {'$date': '2021-04-01T02:12:01.049Z'},\n",
              " 'cropIds': ['5fe4734789d67d51b7331e11'],\n",
              " 'description': 'diamond back moth',\n",
              " 'medias': {'WWoH3ALWmF26R0kEgcX9': {'active': False,\n",
              "   'createdOn': {'$date': '2021-04-01T02:11:59.949Z'},\n",
              "   'cropId': '',\n",
              "   'fid': 'WWoH3ALWmF26R0kEgcX9',\n",
              "   'modifiedOn': {'$date': '2021-04-01T02:11:59.949Z'},\n",
              "   'reference': 'query/WWoH3ALWmF26R0kEgcX9',\n",
              "   'size': {'height': 960, 'width': 540},\n",
              "   'type': 3,\n",
              "   'urls': {'medium': 'https://storage.googleapis.com/kheti-point-2020.appspot.com/query/MEDIUM_WWoH3ALWmF26R0kEgcX9?GoogleAccessId=aws-lambda%40kheti-point-2020.iam.gserviceaccount.com&Expires=95617584000&Signature=S9xg%2FODrKGJLld7jr%2FZCv8tI%2BacWSPsWEqFEmc6IiH6SLqYzvxXQsP47sXqOt9QcBfqm1I2AkZHLTxBVl4mF1G7%2BIw3wFmPnIwrOplmgscjUEv6SKCyYXuSgx0nOlEoESFkLZgYAQXIBe%2FI16WTI%2FFBGu6fuHVXLcxrR7ibqbeK8Sl6alB4miawKayvW6KJkAUO7Gt3U7Rgd671Gnj4mvRadHKpUPtL3aWgBH66fVmsjGg9W79isqNG%2BuSjQla60opD9TEOO%2Fcc7FrqxC8%2B4XOU90h%2BBS5%2FxI1YyaeHunUhoHPZM7RbrCEHF9LG%2F1pLlMjJPILsCuC%2FKqpX2nX4QtQ%3D%3D',\n",
              "    'thumb': 'https://storage.googleapis.com/kheti-point-2020.appspot.com/query/THUMB_WWoH3ALWmF26R0kEgcX9?GoogleAccessId=aws-lambda%40kheti-point-2020.iam.gserviceaccount.com&Expires=95617584000&Signature=s3L7MMafxcPMiBz75QgBDoIq24LZ1eCOcWbXnRLFAkw8kEESu75QbGqBOsQW54iVj7mP9zpNIQc4tv6Ef%2BH1XNuQyv2EQsBDRqQMINesnEybPKjTBs0htv6Lkxi0oTcM1%2BLb6JSq2SZl6fIsm572inIemP8htvY3f0XQW6NCRP5m5oIxL8rjpqdFoS%2F4w4lzGYucURyBYJWBN2sUuU%2BzsP78ZLEwmJCaAYF5iUF158XQC1drJ5xIYZUJk3J5zx2Wgn4xFnCJUQ4XzrqN3QGssTHaCfhHhWPrX7KXiDrvngjraLzdsbE%2BiuHQwOhFtNHRjbgq2MiVaZKYfA%2B4qO977g%3D%3D'},\n",
              "   'useType': 0}},\n",
              " 'title': ''}"
            ]
          },
          "metadata": {
            "tags": []
          },
          "execution_count": 51
        }
      ]
    },
    {
      "cell_type": "code",
      "metadata": {
        "id": "FFlHB-x9vA_9"
      },
      "source": [
        ""
      ],
      "execution_count": null,
      "outputs": []
    }
  ]
}