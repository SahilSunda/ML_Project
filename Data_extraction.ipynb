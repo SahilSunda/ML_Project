{
  "nbformat": 4,
  "nbformat_minor": 0,
  "metadata": {
    "colab": {
      "name": "Data_extraction.ipynb",
      "provenance": [],
      "collapsed_sections": [],
      "mount_file_id": "1WyLwRm1L6SihG3QqGvOFP0YKu4z37bpX",
      "authorship_tag": "ABX9TyNcjj58A6cBtcM2CIc3wg8b",
      "include_colab_link": true
    },
    "kernelspec": {
      "name": "python3",
      "display_name": "Python 3"
    },
    "language_info": {
      "name": "python"
    }
  },
  "cells": [
    {
      "cell_type": "markdown",
      "metadata": {
        "id": "view-in-github",
        "colab_type": "text"
      },
      "source": [
        "<a href=\"https://colab.research.google.com/github/SahilSunda/ML_Project/blob/master/Data_extraction.ipynb\" target=\"_parent\"><img src=\"https://colab.research.google.com/assets/colab-badge.svg\" alt=\"Open In Colab\"/></a>"
      ]
    },
    {
      "cell_type": "code",
      "metadata": {
        "id": "lNXWPzSZDQZa"
      },
      "source": [
        "import urllib\n",
        "import json\n",
        "import numpy as np\n",
        "import pandas as pd\n",
        "from PIL import Image\n"
      ],
      "execution_count": 1,
      "outputs": []
    },
    {
      "cell_type": "code",
      "metadata": {
        "colab": {
          "base_uri": "https://localhost:8080/"
        },
        "id": "iMK95WbXcHxb",
        "outputId": "162f4418-86c4-4a09-86e5-ddba62f51d3a"
      },
      "source": [
        "crops = {}\n",
        "crops_data = pd.read_csv('/content/drive/MyDrive/Colab Notebooks/Khetipoint/iitk_crop.csv')\n",
        "#cropid = []\n",
        "cropid = crops_data['_id']\n",
        "cropname = crops_data['name.en']\n",
        "#print(len(crops_data))\n",
        "for i in range(len(crops_data)):\n",
        "  crops[cropid[i]] = cropname[i]\n",
        "print(crops)\n",
        "#print(crops_data['_id'])"
      ],
      "execution_count": 2,
      "outputs": [
        {
          "output_type": "stream",
          "text": [
            "{'5fc4fd0f00dd0a5e9ddb8abc': 'Cotton', '5fc4fd1100dd0a5e9ddb8abd': 'Cumin', '5fc4fd1200dd0a5e9ddb8abe': 'Coriander ', '5fc4fd1300dd0a5e9ddb8abf': 'Potato', '5fc4fd1500dd0a5e9ddb8ac0': 'Onion', '5fc4fd1600dd0a5e9ddb8ac1': 'Garlic', '5fc4fd1800dd0a5e9ddb8ac2': 'Gram', '5fdf686e36deb42315324603': 'Maize', '5fe21e9489d67d51b7331c41': 'Fennel', '5fe2284c89d67d51b7331c49': 'Sesame', '5fe22d1489d67d51b7331c4a': 'Groundnut', '5fe333a789d67d51b7331d4a': 'Paddy', '5fe33be589d67d51b7331d53': 'Brinjal', '5fe340ce89d67d51b7331d5b': 'Tomato', '5fe346e289d67d51b7331d77': 'Chilli', '5fe46b5889d67d51b7331e0f': 'Okra', '5fe4734789d67d51b7331e11': 'Cabbage', '5fe48c8189d67d51b7331e16': 'Cauliflower', '5fe5aa5189d67d51b7331e82': 'Pigeon Pea (Tur)', '5fe5b2a789d67d51b7331e99': 'Green Gram', '604c728fcd47936a4cb87e02': 'Bajara (Pearl millet)', '604ca272cd47936a4cb87e26': 'Castor', '604cc814cd47936a4cb87e2f': 'Sorghum', '604ccf2dcd47936a4cb87e32': 'Coconut', '604cff8fcd47936a4cb87e40': 'Water Melon', '604d0790cd47936a4cb87e43': 'Musk Melon ', '604d1320cd47936a4cb87e44': 'Black Gram', '604d889bcd47936a4cb87e5f': 'Bitter Guard', '604d95f5cd47936a4cb87e61': 'Cucumber', '604dac9fcd47936a4cb87e6c': 'Soyabean', '604dc162cd47936a4cb87e6f': 'Pea', '604de291cd47936a4cb87e7b': 'Sugarcane', '604f3c30cd47936a4cb87ebb': 'Pointed Guard'}\n"
          ],
          "name": "stdout"
        }
      ]
    },
    {
      "cell_type": "code",
      "metadata": {
        "colab": {
          "base_uri": "https://localhost:8080/",
          "height": 232
        },
        "id": "YtqVMnUA5ilx",
        "outputId": "2e911adc-c982-402b-8dfc-f0caede3f95a"
      },
      "source": [
        "f = open(\"/content/drive/MyDrive/Colab Notebooks/Khetipoint/iitk_query.json\")\n",
        "data = json.load(f)\n",
        "#print(len(data))\n",
        "#print(data[0]['cropIds'])\n",
        "content1 = { 'imageurl': [], 'id': [], 'createdon': [], 'description': [] }\n",
        "for i in range(len(data)):\n",
        "  flag = list(data[i]['medias'].values())\n",
        "  #print(flag[0]['fid'])\n",
        "  content1['imageurl'].append(data[i]['medias'][flag[0]['fid']]['urls']['main'])\n",
        "  content1['id'].append(data[i]['cropIds'])\n",
        "  content1['createdon'].append(data[i]['createdOn']['$date'])\n",
        "  content1['description'].append(data[i]['description'])\n",
        "  #print(content1)"
      ],
      "execution_count": 11,
      "outputs": [
        {
          "output_type": "error",
          "ename": "KeyError",
          "evalue": "ignored",
          "traceback": [
            "\u001b[0;31m---------------------------------------------------------------------------\u001b[0m",
            "\u001b[0;31mKeyError\u001b[0m                                  Traceback (most recent call last)",
            "\u001b[0;32m<ipython-input-11-facc5bcb2bd1>\u001b[0m in \u001b[0;36m<module>\u001b[0;34m()\u001b[0m\n\u001b[1;32m      7\u001b[0m   \u001b[0mflag\u001b[0m \u001b[0;34m=\u001b[0m \u001b[0mlist\u001b[0m\u001b[0;34m(\u001b[0m\u001b[0mdata\u001b[0m\u001b[0;34m[\u001b[0m\u001b[0mi\u001b[0m\u001b[0;34m]\u001b[0m\u001b[0;34m[\u001b[0m\u001b[0;34m'medias'\u001b[0m\u001b[0;34m]\u001b[0m\u001b[0;34m.\u001b[0m\u001b[0mvalues\u001b[0m\u001b[0;34m(\u001b[0m\u001b[0;34m)\u001b[0m\u001b[0;34m)\u001b[0m\u001b[0;34m\u001b[0m\u001b[0;34m\u001b[0m\u001b[0m\n\u001b[1;32m      8\u001b[0m   \u001b[0;31m#print(flag[0]['fid'])\u001b[0m\u001b[0;34m\u001b[0m\u001b[0;34m\u001b[0m\u001b[0;34m\u001b[0m\u001b[0m\n\u001b[0;32m----> 9\u001b[0;31m   \u001b[0mcontent1\u001b[0m\u001b[0;34m[\u001b[0m\u001b[0;34m'imageurl'\u001b[0m\u001b[0;34m]\u001b[0m\u001b[0;34m.\u001b[0m\u001b[0mappend\u001b[0m\u001b[0;34m(\u001b[0m\u001b[0mdata\u001b[0m\u001b[0;34m[\u001b[0m\u001b[0mi\u001b[0m\u001b[0;34m]\u001b[0m\u001b[0;34m[\u001b[0m\u001b[0;34m'medias'\u001b[0m\u001b[0;34m]\u001b[0m\u001b[0;34m[\u001b[0m\u001b[0mflag\u001b[0m\u001b[0;34m[\u001b[0m\u001b[0;36m0\u001b[0m\u001b[0;34m]\u001b[0m\u001b[0;34m[\u001b[0m\u001b[0;34m'fid'\u001b[0m\u001b[0;34m]\u001b[0m\u001b[0;34m]\u001b[0m\u001b[0;34m[\u001b[0m\u001b[0;34m'urls'\u001b[0m\u001b[0;34m]\u001b[0m\u001b[0;34m[\u001b[0m\u001b[0;34m'main'\u001b[0m\u001b[0;34m]\u001b[0m\u001b[0;34m)\u001b[0m\u001b[0;34m\u001b[0m\u001b[0;34m\u001b[0m\u001b[0m\n\u001b[0m\u001b[1;32m     10\u001b[0m   \u001b[0mcontent1\u001b[0m\u001b[0;34m[\u001b[0m\u001b[0;34m'id'\u001b[0m\u001b[0;34m]\u001b[0m\u001b[0;34m.\u001b[0m\u001b[0mappend\u001b[0m\u001b[0;34m(\u001b[0m\u001b[0mdata\u001b[0m\u001b[0;34m[\u001b[0m\u001b[0mi\u001b[0m\u001b[0;34m]\u001b[0m\u001b[0;34m[\u001b[0m\u001b[0;34m'cropIds'\u001b[0m\u001b[0;34m]\u001b[0m\u001b[0;34m)\u001b[0m\u001b[0;34m\u001b[0m\u001b[0;34m\u001b[0m\u001b[0m\n\u001b[1;32m     11\u001b[0m   \u001b[0mcontent1\u001b[0m\u001b[0;34m[\u001b[0m\u001b[0;34m'createdon'\u001b[0m\u001b[0;34m]\u001b[0m\u001b[0;34m.\u001b[0m\u001b[0mappend\u001b[0m\u001b[0;34m(\u001b[0m\u001b[0mdata\u001b[0m\u001b[0;34m[\u001b[0m\u001b[0mi\u001b[0m\u001b[0;34m]\u001b[0m\u001b[0;34m[\u001b[0m\u001b[0;34m'createdOn'\u001b[0m\u001b[0;34m]\u001b[0m\u001b[0;34m[\u001b[0m\u001b[0;34m'$date'\u001b[0m\u001b[0;34m]\u001b[0m\u001b[0;34m)\u001b[0m\u001b[0;34m\u001b[0m\u001b[0;34m\u001b[0m\u001b[0m\n",
            "\u001b[0;31mKeyError\u001b[0m: 'main'"
          ]
        }
      ]
    },
    {
      "cell_type": "code",
      "metadata": {
        "colab": {
          "base_uri": "https://localhost:8080/"
        },
        "id": "rljbK0zHUQu7",
        "outputId": "91db0ece-938b-4f4e-9447-e9ab90711d1f"
      },
      "source": [
        "content1.clear()\n",
        "print(content1)"
      ],
      "execution_count": 10,
      "outputs": [
        {
          "output_type": "stream",
          "text": [
            "{}\n"
          ],
          "name": "stdout"
        }
      ]
    },
    {
      "cell_type": "code",
      "metadata": {
        "colab": {
          "base_uri": "https://localhost:8080/"
        },
        "id": "Pp_JdzqH6nQv",
        "outputId": "e462e3fa-075c-4c77-df21-7267e0b05133"
      },
      "source": [
        "print(len(content1['description']))\n",
        "print(len(data))"
      ],
      "execution_count": 12,
      "outputs": [
        {
          "output_type": "stream",
          "text": [
            "301\n",
            "9509\n"
          ],
          "name": "stdout"
        }
      ]
    }
  ]
}