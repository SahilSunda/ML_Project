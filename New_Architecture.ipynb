{
  "nbformat": 4,
  "nbformat_minor": 0,
  "metadata": {
    "colab": {
      "name": "New Architecture.ipynb",
      "provenance": [],
      "authorship_tag": "ABX9TyPRi6ameNgORlYqLTyDRhW6",
      "include_colab_link": true
    },
    "kernelspec": {
      "name": "python3",
      "display_name": "Python 3"
    },
    "language_info": {
      "name": "python"
    }
  },
  "cells": [
    {
      "cell_type": "markdown",
      "metadata": {
        "id": "view-in-github",
        "colab_type": "text"
      },
      "source": [
        "<a href=\"https://colab.research.google.com/github/SahilSunda/ML_Project/blob/master/New_Architecture.ipynb\" target=\"_parent\"><img src=\"https://colab.research.google.com/assets/colab-badge.svg\" alt=\"Open In Colab\"/></a>"
      ]
    },
    {
      "cell_type": "code",
      "metadata": {
        "id": "I--b5kvtxBV7"
      },
      "source": [
        "import numpy as np\n",
        "import tensorflow as tf\n",
        "from tensorflow import keras\n",
        "from keras.layers import Input, Conv2D,BatchNormalization, MaxPooling2D, AveragePooling2D, Flatten, GlobalAveragePooling2D, Dense, Dropout, Activation\n",
        "from keras.layers.merge import concatenate\n",
        "from tensorflow.keras.models import Sequential,Model\n",
        "from tensorflow.keras.optimizers import Adam\n",
        "from tensorflow.keras.metrics import categorical_crossentropy\n",
        "from tensorflow.keras.preprocessing.image import ImageDataGenerator\n",
        "from sklearn.metrics import confusion_matrix\n",
        "import itertools\n",
        "import os\n",
        "import shutil\n",
        "import random\n",
        "import glob\n",
        "import matplotlib.pyplot as plt\n",
        "import warnings\n",
        "warnings.simplefilter(action='ignore',category=FutureWarning)\n",
        "%matplotlib inline"
      ],
      "execution_count": null,
      "outputs": []
    },
    {
      "cell_type": "code",
      "metadata": {
        "id": "Z8Ku8fPsxRgz"
      },
      "source": [
        "!unzip /content/drive/MyDrive/khetipoint.zip"
      ],
      "execution_count": null,
      "outputs": []
    },
    {
      "cell_type": "code",
      "metadata": {
        "id": "18DeGoelxTnu"
      },
      "source": [
        "model = Sequential()\n",
        "model.add(Conv2D(64, kernel_size=3,activation='relu',input_shape=(224,224,3)))\n",
        "model.add(MaxPooling2D(pool_size=(3,3),strides=2,padding='same'))\n",
        "model.add(Conv2D(128,kernel_size=3,activation='relu'))\n",
        "model.add(MaxPooling2D(pool_size=(3,3),strides=2,padding='same'))\n",
        "model.add(Conv2D(256,kernel_size=3,activation='relu'))\n",
        "model.add(Conv2D(512,kernel_size=3,activation='relu'))\n",
        "model.add(Conv2D(512,kernel_size=3,activation='relu'))\n",
        "model.add(MaxPooling2D(pool_size=(3,3),strides=2,padding='same'))\n",
        "model.add(Flatten())\n",
        "model.add(Dense(1024, activation='relu'))\n",
        "model.add(Dense(38,activation='softmax'))"
      ],
      "execution_count": null,
      "outputs": []
    },
    {
      "cell_type": "code",
      "metadata": {
        "id": "GYFiIYz9xWKQ"
      },
      "source": [
        "model.build((None,224,224,3))"
      ],
      "execution_count": null,
      "outputs": []
    },
    {
      "cell_type": "code",
      "metadata": {
        "colab": {
          "base_uri": "https://localhost:8080/"
        },
        "id": "Puz3l6UGUNmY",
        "outputId": "6af76a79-ce93-49fa-f9d3-d4d2c6306101"
      },
      "source": [
        "model.summary()"
      ],
      "execution_count": null,
      "outputs": [
        {
          "output_type": "stream",
          "text": [
            "Model: \"sequential_1\"\n",
            "_________________________________________________________________\n",
            "Layer (type)                 Output Shape              Param #   \n",
            "=================================================================\n",
            "module_wrapper_11 (ModuleWra (None, 222, 222, 64)      1792      \n",
            "_________________________________________________________________\n",
            "module_wrapper_12 (ModuleWra (None, 111, 111, 64)      0         \n",
            "_________________________________________________________________\n",
            "module_wrapper_13 (ModuleWra (None, 109, 109, 128)     73856     \n",
            "_________________________________________________________________\n",
            "module_wrapper_14 (ModuleWra (None, 55, 55, 128)       0         \n",
            "_________________________________________________________________\n",
            "module_wrapper_15 (ModuleWra (None, 53, 53, 256)       295168    \n",
            "_________________________________________________________________\n",
            "module_wrapper_16 (ModuleWra (None, 51, 51, 512)       1180160   \n",
            "_________________________________________________________________\n",
            "module_wrapper_17 (ModuleWra (None, 49, 49, 512)       2359808   \n",
            "_________________________________________________________________\n",
            "module_wrapper_18 (ModuleWra (None, 25, 25, 512)       0         \n",
            "_________________________________________________________________\n",
            "module_wrapper_19 (ModuleWra (None, 320000)            0         \n",
            "_________________________________________________________________\n",
            "module_wrapper_20 (ModuleWra (None, 1024)              327681024 \n",
            "_________________________________________________________________\n",
            "module_wrapper_21 (ModuleWra (None, 38)                38950     \n",
            "=================================================================\n",
            "Total params: 331,630,758\n",
            "Trainable params: 331,630,758\n",
            "Non-trainable params: 0\n",
            "_________________________________________________________________\n"
          ],
          "name": "stdout"
        }
      ]
    },
    {
      "cell_type": "code",
      "metadata": {
        "id": "4BRNY1jwxWil"
      },
      "source": [
        "train_path = '/content/Khetipoint Data'"
      ],
      "execution_count": null,
      "outputs": []
    },
    {
      "cell_type": "code",
      "metadata": {
        "id": "3Rn0Tjl6xW7R"
      },
      "source": [
        "BS=64"
      ],
      "execution_count": null,
      "outputs": []
    },
    {
      "cell_type": "code",
      "metadata": {
        "colab": {
          "base_uri": "https://localhost:8080/"
        },
        "id": "U7Sbtp2rUlVK",
        "outputId": "9083e188-7ded-49f2-ff90-5dcb86fae258"
      },
      "source": [
        "train_batches = ImageDataGenerator(validation_split=0.2).flow_from_directory(directory=train_path,target_size=(224,224),class_mode = 'categorical',batch_size=BS,subset='training')\n",
        "valid_batches = ImageDataGenerator(validation_split=0.2).flow_from_directory(directory=train_path,target_size=(224,224),class_mode = 'categorical',batch_size=BS,subset='validation')"
      ],
      "execution_count": null,
      "outputs": [
        {
          "output_type": "stream",
          "text": [
            "Found 5152 images belonging to 38 classes.\n",
            "Found 1288 images belonging to 38 classes.\n"
          ],
          "name": "stdout"
        }
      ]
    },
    {
      "cell_type": "code",
      "metadata": {
        "id": "rHFk5cnXxpdv"
      },
      "source": [
        "model.compile(optimizer=Adam(learning_rate=0.0001),loss='categorical_crossentropy',metrics=['accuracy'])"
      ],
      "execution_count": null,
      "outputs": []
    },
    {
      "cell_type": "code",
      "metadata": {
        "colab": {
          "base_uri": "https://localhost:8080/"
        },
        "id": "-8GXDTsbUrDe",
        "outputId": "2f455c8e-17a8-465f-80e8-1e72a28eb8e9"
      },
      "source": [
        "training = model.fit(x=train_batches,validation_data=valid_batches, epochs=15,steps_per_epoch=len(train_batches),validation_steps=len(valid_batches),verbose=1)"
      ],
      "execution_count": null,
      "outputs": [
        {
          "output_type": "stream",
          "text": [
            "Epoch 1/15\n",
            "81/81 [==============================] - 125s 978ms/step - loss: 15.1156 - accuracy: 0.0967 - val_loss: 3.1004 - val_accuracy: 0.1227\n",
            "Epoch 2/15\n",
            "81/81 [==============================] - 70s 866ms/step - loss: 3.0882 - accuracy: 0.1429 - val_loss: 2.8237 - val_accuracy: 0.1848\n",
            "Epoch 3/15\n",
            "81/81 [==============================] - 70s 865ms/step - loss: 2.6922 - accuracy: 0.2453 - val_loss: 2.1320 - val_accuracy: 0.4115\n",
            "Epoch 4/15\n",
            "81/81 [==============================] - 70s 861ms/step - loss: 2.0895 - accuracy: 0.3969 - val_loss: 1.4545 - val_accuracy: 0.6071\n",
            "Epoch 5/15\n",
            "81/81 [==============================] - 70s 862ms/step - loss: 1.4037 - accuracy: 0.5914 - val_loss: 1.1692 - val_accuracy: 0.6693\n",
            "Epoch 6/15\n",
            "81/81 [==============================] - 70s 863ms/step - loss: 0.8562 - accuracy: 0.7459 - val_loss: 0.6546 - val_accuracy: 0.8284\n",
            "Epoch 7/15\n",
            "81/81 [==============================] - 70s 868ms/step - loss: 0.5219 - accuracy: 0.8591 - val_loss: 0.5198 - val_accuracy: 0.8455\n",
            "Epoch 8/15\n",
            "81/81 [==============================] - 70s 874ms/step - loss: 0.3673 - accuracy: 0.9066 - val_loss: 0.2469 - val_accuracy: 0.9410\n",
            "Epoch 9/15\n",
            "81/81 [==============================] - 71s 868ms/step - loss: 0.2249 - accuracy: 0.9511 - val_loss: 0.1263 - val_accuracy: 0.9728\n",
            "Epoch 10/15\n",
            "81/81 [==============================] - 71s 868ms/step - loss: 0.1250 - accuracy: 0.9738 - val_loss: 0.0567 - val_accuracy: 0.9899\n",
            "Epoch 11/15\n",
            "81/81 [==============================] - 71s 868ms/step - loss: 0.0891 - accuracy: 0.9862 - val_loss: 0.1562 - val_accuracy: 0.9627\n",
            "Epoch 12/15\n",
            "81/81 [==============================] - 70s 867ms/step - loss: 0.1096 - accuracy: 0.9775 - val_loss: 0.1105 - val_accuracy: 0.9752\n",
            "Epoch 13/15\n",
            "81/81 [==============================] - 70s 865ms/step - loss: 0.0909 - accuracy: 0.9845 - val_loss: 0.0730 - val_accuracy: 0.9860\n",
            "Epoch 14/15\n",
            "81/81 [==============================] - 70s 863ms/step - loss: 0.0534 - accuracy: 0.9930 - val_loss: 0.1562 - val_accuracy: 0.9589\n",
            "Epoch 15/15\n",
            "81/81 [==============================] - 70s 857ms/step - loss: 0.0699 - accuracy: 0.9862 - val_loss: 0.0954 - val_accuracy: 0.9783\n"
          ],
          "name": "stdout"
        }
      ]
    },
    {
      "cell_type": "code",
      "metadata": {
        "colab": {
          "base_uri": "https://localhost:8080/",
          "height": 573
        },
        "id": "uOQ_g1CGUuBc",
        "outputId": "428022d7-c38e-4a3f-cab6-fecbc1707bd2"
      },
      "source": [
        "plt.plot(training.history['accuracy'])\n",
        "plt.plot(training.history['val_accuracy'])\n",
        "plt.title('model accuracy')\n",
        "plt.ylabel('accuracy')\n",
        "plt.xlabel( 'epoch')\n",
        "plt.legend(['train','validation'],loc='upper left')\n",
        "plt.show()\n",
        "\n",
        "plt.plot(training.history['loss'])\n",
        "plt.plot(training.history['val_loss'])\n",
        "plt.title('model loss')\n",
        "plt.ylabel('loss')\n",
        "plt.xlabel('epoch')\n",
        "plt.legend(['train','validation'],loc='upper right')\n",
        "plt.show()"
      ],
      "execution_count": null,
      "outputs": [
        {
          "output_type": "display_data",
          "data": {
            "image/png": "[encoded data removed]",
            "text/plain": [
              "<Figure size 432x288 with 1 Axes>"
            ]
          },
          "metadata": {
            "tags": [],
            "needs_background": "light"
          }
        },
        {
          "output_type": "display_data",
          "data": {
            "image/png": "[encoded data removed]",
            "text/plain": [
              "<Figure size 432x288 with 1 Axes>"
            ]
          },
          "metadata": {
            "tags": [],
            "needs_background": "light"
          }
        }
      ]
    }
  ]
}