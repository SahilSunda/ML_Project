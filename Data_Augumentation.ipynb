{
  "nbformat": 4,
  "nbformat_minor": 0,
  "metadata": {
    "colab": {
      "name": "Data_Augumentation.ipynb",
      "provenance": [],
      "authorship_tag": "ABX9TyMaQIJ//JpKHZVLOKQU+5Pb",
      "include_colab_link": true
    },
    "kernelspec": {
      "name": "python3",
      "display_name": "Python 3"
    },
    "language_info": {
      "name": "python"
    }
  },
  "cells": [
    {
      "cell_type": "markdown",
      "metadata": {
        "id": "view-in-github",
        "colab_type": "text"
      },
      "source": [
        "<a href=\"https://colab.research.google.com/github/SahilSunda/ML_Project/blob/master/Data_Augumentation.ipynb\" target=\"_parent\"><img src=\"https://colab.research.google.com/assets/colab-badge.svg\" alt=\"Open In Colab\"/></a>"
      ]
    },
    {
      "cell_type": "code",
      "metadata": {
        "id": "KXd1UgPtZbE2"
      },
      "source": [
        "from google.colab import drive\n",
        "drive.mount('/content/gdrive')"
      ],
      "execution_count": null,
      "outputs": []
    },
    {
      "cell_type": "code",
      "metadata": {
        "id": "nJz2QRj2av_p"
      },
      "source": [
        "import os\n",
        "import random\n",
        "from scipy import ndarray\n",
        "import numpy as np\n",
        "\n",
        "# image processing library\n",
        "import skimage as sk\n",
        "from skimage import transform\n",
        "from skimage import util\n",
        "from skimage import io\n",
        "\n",
        "def random_rotation(image_array: ndarray):\n",
        "    # pick a random degree of rotation between 25% on the left and 25% on the right\n",
        "    random_degree = random.uniform(-25, 25)\n",
        "    return sk.transform.rotate(image_array, random_degree)\n",
        "\n",
        "def random_noise(image_array: ndarray):\n",
        "    # add random noise to the image\n",
        "    return sk.util.random_noise(image_array)\n",
        "\n",
        "def horizontal_flip(image_array: ndarray):\n",
        "    return np.fliplr(image_array)\n",
        "\n",
        "def vertical_flip(image_array: ndarray):\n",
        "    return np.flipud(image_array)\n",
        "\n",
        "# dictionary of the transformations we defined earlier\n",
        "available_transformations = {\n",
        "    'rotate': random_rotation,\n",
        "    'noise': random_noise,\n",
        "    'horizontal_flip': horizontal_flip,\n",
        "    'vertical_flip': vertical_flip\n",
        "}\n",
        "key = list(available_transformations)\n",
        "\n",
        "folder_path = 'gdrive/MyDrive/Khetipoint Data/Water Melon Fruit'\n",
        "\n",
        "# find all files paths from the folder\n",
        "images = [os.path.join(folder_path, f) for f in os.listdir(folder_path) if os.path.isfile(os.path.join(folder_path, f))]\n",
        "\n",
        "num_files_desired = len(images)*len(available_transformations)\n",
        "\n",
        "num_generated_files = 0\n",
        "\n",
        "for p in images:\n",
        "  image_path = p\n",
        "  # read image as an two dimensional array of pixels\n",
        "  image_to_transform = sk.io.imread(image_path)\n",
        "  transformed_image = None\n",
        "  for k in key:\n",
        "    transformed_image = available_transformations[k](image_to_transform)\n",
        "    new_file_path = '%s/augmented_image_%s.jpg' % (folder_path, num_generated_files)\n",
        "    # write image to the disk\n",
        "    io.imsave(new_file_path, transformed_image)\n",
        "    num_generated_files += 1"
      ],
      "execution_count": null,
      "outputs": []
    },
    {
      "cell_type": "code",
      "metadata": {
        "id": "z2D_Mv9XazwX"
      },
      "source": [
        "available_transformations = {\n",
        "    'rotate': random_rotation,\n",
        "    'noise': random_noise,\n",
        "    'horizontal_flip': horizontal_flip,\n",
        "    'vertical_flip': vertical_flip\n",
        "}\n",
        "key = list(available_transformations)\n",
        "for k in key:\n",
        "  print(available_transformations[k])\n",
        "\n",
        "print(len(images)*len(available_transformations))"
      ],
      "execution_count": null,
      "outputs": []
    }
  ]
}