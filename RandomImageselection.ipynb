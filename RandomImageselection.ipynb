{
  "nbformat": 4,
  "nbformat_minor": 0,
  "metadata": {
    "colab": {
      "name": "RandomImageselection.ipynb",
      "provenance": [],
      "mount_file_id": "10PMrgNEHt3hxCdC-TPcagEeAq608mRpt",
      "authorship_tag": "ABX9TyMGv09bI5XBiyJR5G2Ow7zn",
      "include_colab_link": true
    },
    "kernelspec": {
      "name": "python3",
      "display_name": "Python 3"
    },
    "language_info": {
      "name": "python"
    }
  },
  "cells": [
    {
      "cell_type": "markdown",
      "metadata": {
        "id": "view-in-github",
        "colab_type": "text"
      },
      "source": [
        "<a href=\"https://colab.research.google.com/github/SahilSunda/ML_Project/blob/master/RandomImageselection.ipynb\" target=\"_parent\"><img src=\"https://colab.research.google.com/assets/colab-badge.svg\" alt=\"Open In Colab\"/></a>"
      ]
    },
    {
      "cell_type": "code",
      "metadata": {
        "id": "uR3UfSTWl2Fo"
      },
      "source": [
        "import os \n",
        "import shutil\n",
        "import glob\n",
        "import random"
      ],
      "execution_count": 34,
      "outputs": []
    },
    {
      "cell_type": "code",
      "metadata": {
        "id": "nC54x5SbpWed"
      },
      "source": [
        "valid_dir = '/content/drive/MyDrive/Colab Notebooks/Valid/'"
      ],
      "execution_count": 35,
      "outputs": []
    },
    {
      "cell_type": "code",
      "metadata": {
        "id": "X31BJJ6jqCxB"
      },
      "source": [
        "valid_foldernames = ['Onion Fruit', 'Pigeon Pea (Tur)', 'Black Gram Leaf', 'Brinjal Leaf', 'Bajara (Pearl millet) Leaf', 'Bitter Guard Fruit', 'Bitter Guard Leaf', 'Garlic Leaf', 'Pointed Gaurd', 'Cauliflower Leaf', 'Sugarcane', 'Groundnut Leaf', 'Brinjal Fruit', 'Tomato Fruit', 'Chilli Leaf', 'Sorghum', 'Gram Leaf', 'Onion Leaf', 'Maize Fruit', 'Chilli Fruit', 'Cotton Leaf', 'Okra Leaf', 'Water Melon Leaf', 'Cumin Leaf', 'Okra', 'Cabbage', 'Bajara (Pearl millet) Fruit', 'Cucumber Leaf', 'Paddy', 'Water Melon Fruit', 'Groundnut Fruit', 'Potato', 'Tomato Leaf', 'Green Gram Leaf', 'Sesame', 'Cucumber Fruit', 'Maize Leaf', 'Potato Leaf']"
      ],
      "execution_count": 4,
      "outputs": []
    },
    {
      "cell_type": "code",
      "metadata": {
        "colab": {
          "base_uri": "https://localhost:8080/"
        },
        "id": "EXP-PfSvPpEk",
        "outputId": "3fe3393d-7715-4f26-cbe3-34a248f82e02"
      },
      "source": [
        "print(valid_foldernames.index('Potato Leaf'))"
      ],
      "execution_count": 68,
      "outputs": [
        {
          "output_type": "stream",
          "text": [
            "37\n"
          ],
          "name": "stdout"
        }
      ]
    },
    {
      "cell_type": "code",
      "metadata": {
        "id": "6nafnL2bq3i6"
      },
      "source": [
        "for i in range(len(valid_foldernames)):\n",
        "  path = valid_dir + str(valid_foldernames[i])\n",
        "  os.mkdir(path)"
      ],
      "execution_count": 7,
      "outputs": []
    },
    {
      "cell_type": "code",
      "metadata": {
        "id": "Qot05UpUxUuR"
      },
      "source": [
        "# Source path  \n",
        "src = '/content/drive/MyDrive/Colab Notebooks/Data'\n",
        "# Destination path  \n",
        "dest = '/content/drive/MyDrive/Colab Notebooks/Train'\n",
        "destination = shutil.copytree(src, dest)\n",
        "# Move src to dst (mv src dst)\n",
        "# shutil.move(src, dst)"
      ],
      "execution_count": 15,
      "outputs": []
    },
    {
      "cell_type": "code",
      "metadata": {
        "id": "BCvNONCZ0hQ7"
      },
      "source": [
        "for i in range(38, len(valid_foldernames)):\n",
        "  src1 = '/content/drive/MyDrive/Colab Notebooks/Train/' + valid_foldernames[i] \n",
        "  files = os.listdir(src1)\n",
        "  for j in range(int(len(files)*20/100)):\n",
        "    d = random.choice(files)\n",
        "    if d not in files:\n",
        "      continue\n",
        "    s = \"/content/drive/MyDrive/Colab Notebooks/Train/\" + valid_foldernames[i] + \"/\" + d\n",
        "    dest1 = valid_dir + valid_foldernames[i]\n",
        "    shutil.move(s, dest1)\n",
        "  #src_dir = \"C:/Users/User/Desktop/Image\"\n"
      ],
      "execution_count": 71,
      "outputs": []
    },
    {
      "cell_type": "code",
      "metadata": {
        "id": "GkMYVFmq4ahZ"
      },
      "source": [
        ""
      ],
      "execution_count": null,
      "outputs": []
    }
  ]
}